{
 "cells": [
  {
   "cell_type": "markdown",
   "metadata": {},
   "source": [
    "### 4 - Displaying Core Data and Deriving a Poro Perm Relationship"
   ]
  },
  {
   "cell_type": "markdown",
   "metadata": {},
   "source": [
    "Created By: Andy McDonald\n",
    "<br><br>\n",
    "The following short tutorial illustrates the process of loading in core data from a CSV file, creating poro-perm crossplots, and deriving a poro-perm relationship using numpy."
   ]
  },
  {
   "cell_type": "code",
   "execution_count": 1,
   "metadata": {},
   "outputs": [],
   "source": [
    "import pandas as pd\n",
    "import matplotlib.pyplot as plt\n",
    "import numpy as np"
   ]
  },
  {
   "cell_type": "code",
   "execution_count": 2,
   "metadata": {},
   "outputs": [],
   "source": [
    "core_data = pd.read_csv(\"Data/CoreData.csv\")"
   ]
  },
  {
   "cell_type": "code",
   "execution_count": 3,
   "metadata": {},
   "outputs": [
    {
     "data": {
      "text/html": [
       "<div>\n",
       "<style scoped>\n",
       "    .dataframe tbody tr th:only-of-type {\n",
       "        vertical-align: middle;\n",
       "    }\n",
       "\n",
       "    .dataframe tbody tr th {\n",
       "        vertical-align: top;\n",
       "    }\n",
       "\n",
       "    .dataframe thead th {\n",
       "        text-align: right;\n",
       "    }\n",
       "</style>\n",
       "<table border=\"1\" class=\"dataframe\">\n",
       "  <thead>\n",
       "    <tr style=\"text-align: right;\">\n",
       "      <th></th>\n",
       "      <th>SAMPLE</th>\n",
       "      <th>DEPTH</th>\n",
       "      <th>SW</th>\n",
       "      <th>SO</th>\n",
       "      <th>CKH</th>\n",
       "      <th>CPOR</th>\n",
       "      <th>CGD</th>\n",
       "    </tr>\n",
       "  </thead>\n",
       "  <tbody>\n",
       "    <tr>\n",
       "      <th>0</th>\n",
       "      <td>2DS</td>\n",
       "      <td>10715.70115</td>\n",
       "      <td>21.850474</td>\n",
       "      <td>52.400205</td>\n",
       "      <td>156.170</td>\n",
       "      <td>24.95</td>\n",
       "      <td>2.661</td>\n",
       "    </tr>\n",
       "    <tr>\n",
       "      <th>1</th>\n",
       "      <td>3VDS</td>\n",
       "      <td>10716.57075</td>\n",
       "      <td>29.665587</td>\n",
       "      <td>48.126653</td>\n",
       "      <td>77.342</td>\n",
       "      <td>23.45</td>\n",
       "      <td>2.658</td>\n",
       "    </tr>\n",
       "    <tr>\n",
       "      <th>2</th>\n",
       "      <td>4DS</td>\n",
       "      <td>10716.89685</td>\n",
       "      <td>24.344271</td>\n",
       "      <td>47.470879</td>\n",
       "      <td>196.344</td>\n",
       "      <td>25.28</td>\n",
       "      <td>2.653</td>\n",
       "    </tr>\n",
       "    <tr>\n",
       "      <th>3</th>\n",
       "      <td>5VDS</td>\n",
       "      <td>10717.11425</td>\n",
       "      <td>25.063665</td>\n",
       "      <td>52.153449</td>\n",
       "      <td>147.086</td>\n",
       "      <td>23.33</td>\n",
       "      <td>2.653</td>\n",
       "    </tr>\n",
       "    <tr>\n",
       "      <th>4</th>\n",
       "      <td>7VDS</td>\n",
       "      <td>10718.63605</td>\n",
       "      <td>24.756409</td>\n",
       "      <td>52.020974</td>\n",
       "      <td>144.810</td>\n",
       "      <td>24.07</td>\n",
       "      <td>2.655</td>\n",
       "    </tr>\n",
       "  </tbody>\n",
       "</table>\n",
       "</div>"
      ],
      "text/plain": [
       "  SAMPLE        DEPTH         SW         SO      CKH   CPOR    CGD\n",
       "0    2DS  10715.70115  21.850474  52.400205  156.170  24.95  2.661\n",
       "1   3VDS  10716.57075  29.665587  48.126653   77.342  23.45  2.658\n",
       "2    4DS  10716.89685  24.344271  47.470879  196.344  25.28  2.653\n",
       "3   5VDS  10717.11425  25.063665  52.153449  147.086  23.33  2.653\n",
       "4   7VDS  10718.63605  24.756409  52.020974  144.810  24.07  2.655"
      ]
     },
     "execution_count": 3,
     "metadata": {},
     "output_type": "execute_result"
    }
   ],
   "source": [
    "core_data.head()"
   ]
  },
  {
   "cell_type": "code",
   "execution_count": 4,
   "metadata": {},
   "outputs": [
    {
     "data": {
      "text/html": [
       "<div>\n",
       "<style scoped>\n",
       "    .dataframe tbody tr th:only-of-type {\n",
       "        vertical-align: middle;\n",
       "    }\n",
       "\n",
       "    .dataframe tbody tr th {\n",
       "        vertical-align: top;\n",
       "    }\n",
       "\n",
       "    .dataframe thead th {\n",
       "        text-align: right;\n",
       "    }\n",
       "</style>\n",
       "<table border=\"1\" class=\"dataframe\">\n",
       "  <thead>\n",
       "    <tr style=\"text-align: right;\">\n",
       "      <th></th>\n",
       "      <th>DEPTH</th>\n",
       "      <th>SW</th>\n",
       "      <th>SO</th>\n",
       "      <th>CKH</th>\n",
       "      <th>CPOR</th>\n",
       "      <th>CGD</th>\n",
       "    </tr>\n",
       "  </thead>\n",
       "  <tbody>\n",
       "    <tr>\n",
       "      <th>count</th>\n",
       "      <td>108.000000</td>\n",
       "      <td>108.000000</td>\n",
       "      <td>108.000000</td>\n",
       "      <td>108.000000</td>\n",
       "      <td>108.000000</td>\n",
       "      <td>108.000000</td>\n",
       "    </tr>\n",
       "    <tr>\n",
       "      <th>mean</th>\n",
       "      <td>10761.782905</td>\n",
       "      <td>35.509717</td>\n",
       "      <td>40.728041</td>\n",
       "      <td>114.365102</td>\n",
       "      <td>19.677500</td>\n",
       "      <td>2.661935</td>\n",
       "    </tr>\n",
       "    <tr>\n",
       "      <th>std</th>\n",
       "      <td>28.333169</td>\n",
       "      <td>12.124610</td>\n",
       "      <td>11.880550</td>\n",
       "      <td>116.074693</td>\n",
       "      <td>4.366594</td>\n",
       "      <td>0.015253</td>\n",
       "    </tr>\n",
       "    <tr>\n",
       "      <th>min</th>\n",
       "      <td>10715.701150</td>\n",
       "      <td>21.489047</td>\n",
       "      <td>0.000000</td>\n",
       "      <td>0.045000</td>\n",
       "      <td>2.360000</td>\n",
       "      <td>2.647000</td>\n",
       "    </tr>\n",
       "    <tr>\n",
       "      <th>25%</th>\n",
       "      <td>10738.079762</td>\n",
       "      <td>26.733086</td>\n",
       "      <td>36.095689</td>\n",
       "      <td>36.319000</td>\n",
       "      <td>18.607500</td>\n",
       "      <td>2.655000</td>\n",
       "    </tr>\n",
       "    <tr>\n",
       "      <th>50%</th>\n",
       "      <td>10760.648600</td>\n",
       "      <td>31.393546</td>\n",
       "      <td>42.411968</td>\n",
       "      <td>96.861500</td>\n",
       "      <td>20.330000</td>\n",
       "      <td>2.657000</td>\n",
       "    </tr>\n",
       "    <tr>\n",
       "      <th>75%</th>\n",
       "      <td>10783.054388</td>\n",
       "      <td>41.666675</td>\n",
       "      <td>47.502606</td>\n",
       "      <td>151.569250</td>\n",
       "      <td>22.137500</td>\n",
       "      <td>2.663000</td>\n",
       "    </tr>\n",
       "    <tr>\n",
       "      <th>max</th>\n",
       "      <td>10811.411500</td>\n",
       "      <td>77.868532</td>\n",
       "      <td>99.226071</td>\n",
       "      <td>788.070000</td>\n",
       "      <td>25.280000</td>\n",
       "      <td>2.758000</td>\n",
       "    </tr>\n",
       "  </tbody>\n",
       "</table>\n",
       "</div>"
      ],
      "text/plain": [
       "              DEPTH          SW          SO         CKH        CPOR  \\\n",
       "count    108.000000  108.000000  108.000000  108.000000  108.000000   \n",
       "mean   10761.782905   35.509717   40.728041  114.365102   19.677500   \n",
       "std       28.333169   12.124610   11.880550  116.074693    4.366594   \n",
       "min    10715.701150   21.489047    0.000000    0.045000    2.360000   \n",
       "25%    10738.079762   26.733086   36.095689   36.319000   18.607500   \n",
       "50%    10760.648600   31.393546   42.411968   96.861500   20.330000   \n",
       "75%    10783.054388   41.666675   47.502606  151.569250   22.137500   \n",
       "max    10811.411500   77.868532   99.226071  788.070000   25.280000   \n",
       "\n",
       "              CGD  \n",
       "count  108.000000  \n",
       "mean     2.661935  \n",
       "std      0.015253  \n",
       "min      2.647000  \n",
       "25%      2.655000  \n",
       "50%      2.657000  \n",
       "75%      2.663000  \n",
       "max      2.758000  "
      ]
     },
     "execution_count": 4,
     "metadata": {},
     "output_type": "execute_result"
    }
   ],
   "source": [
    "core_data.describe()"
   ]
  },
  {
   "cell_type": "markdown",
   "metadata": {},
   "source": [
    "We can make a quick scatter plot by:"
   ]
  },
  {
   "cell_type": "code",
   "execution_count": 5,
   "metadata": {},
   "outputs": [
    {
     "data": {
      "text/plain": [
       "<matplotlib.axes._subplots.AxesSubplot at 0x11240ffd0>"
      ]
     },
     "execution_count": 5,
     "metadata": {},
     "output_type": "execute_result"
    },
    {
     "data": {
      "image/png": "[encoded data removed]",
      "text/plain": [
       "<Figure size 432x288 with 1 Axes>"
      ]
     },
     "metadata": {},
     "output_type": "display_data"
    }
   ],
   "source": [
    "core_data.plot(kind=\"scatter\", x=\"CPOR\", y=\"CKH\")"
   ]
  },
  {
   "cell_type": "markdown",
   "metadata": {},
   "source": [
    "There is one main problem with previous plot. Poro-perm data is normally presented on semilog scale, where the y-axis is logarithmic and the x-axis set to linear. We can change this by using the yscale('log') method."
   ]
  },
  {
   "cell_type": "code",
   "execution_count": 6,
   "metadata": {},
   "outputs": [
    {
     "data": {
      "image/png": "[encoded data removed]",
      "text/plain": [
       "<Figure size 432x288 with 1 Axes>"
      ]
     },
     "metadata": {},
     "output_type": "display_data"
    }
   ],
   "source": [
    "core_data.plot(kind=\"scatter\", x=\"CPOR\", y=\"CKH\")\n",
    "plt.yscale('log')\n",
    "plt.grid(True)"
   ]
  },
  {
   "cell_type": "markdown",
   "metadata": {},
   "source": [
    "We can further refine the scatter plot by removing the scientific notation on the y-axis."
   ]
  },
  {
   "cell_type": "code",
   "execution_count": 7,
   "metadata": {},
   "outputs": [
    {
     "data": {
      "image/png": "[encoded data removed]",
      "text/plain": [
       "<Figure size 432x288 with 1 Axes>"
      ]
     },
     "metadata": {},
     "output_type": "display_data"
    }
   ],
   "source": [
    "from matplotlib.ticker import FuncFormatter\n",
    "fig, ax = plt.subplots()\n",
    "\n",
    "ax.axis([0, 30, 0.01, 10000])\n",
    "ax.plot(core_data['CPOR'], core_data['CKH'], 'bo')\n",
    "ax.set_yscale('log')\n",
    "ax.grid(True)\n",
    "ax.set_ylabel('Core Perm (mD)')\n",
    "ax.set_xlabel('Core Porosity (%)')\n",
    "\n",
    "#Format the axes so that they show whole numbers\n",
    "for axis in [ax.yaxis, ax.xaxis]:\n",
    "    formatter = FuncFormatter(lambda y, _: '{:.16g}'.format(y))\n",
    "    axis.set_major_formatter(formatter)"
   ]
  },
  {
   "cell_type": "markdown",
   "metadata": {},
   "source": [
    "We can derive a linear regression by using the polyfit function from numpy. As we are working with a semi-log plot, we need to calculate log base 10 of the core permeability."
   ]
  },
  {
   "cell_type": "code",
   "execution_count": 8,
   "metadata": {},
   "outputs": [],
   "source": [
    "x = np.polyfit(core_data['CPOR'], np.log10(core_data['CKH']), 1)"
   ]
  },
  {
   "cell_type": "code",
   "execution_count": 9,
   "metadata": {},
   "outputs": [
    {
     "data": {
      "text/plain": [
       "array([ 0.16911398, -1.61346487])"
      ]
     },
     "execution_count": 9,
     "metadata": {},
     "output_type": "execute_result"
    }
   ],
   "source": [
    "x"
   ]
  },
  {
   "cell_type": "markdown",
   "metadata": {},
   "source": [
    "The result of the regression is: $10^{(0.16911398  * CPOR - 1.61346487)}$"
   ]
  },
  {
   "cell_type": "markdown",
   "metadata": {},
   "source": [
    "Using the code from the previous plot, we can now add a new line with our x-axis set to porosity and our y-axis set to an equation. Note that we have to use the equation above to reverse the log base 10 function used when deriving the function."
   ]
  },
  {
   "cell_type": "code",
   "execution_count": 10,
   "metadata": {},
   "outputs": [
    {
     "data": {
      "image/png": "[encoded data removed]",
      "text/plain": [
       "<Figure size 432x288 with 1 Axes>"
      ]
     },
     "metadata": {},
     "output_type": "display_data"
    }
   ],
   "source": [
    "from matplotlib.ticker import FuncFormatter\n",
    "fig, ax = plt.subplots()\n",
    "\n",
    "ax.axis([0, 30, 0.01, 10000])\n",
    "ax.semilogy(core_data['CPOR'], core_data['CKH'], 'bo')\n",
    "\n",
    "ax.grid(True)\n",
    "ax.set_ylabel('Core Perm (mD)')\n",
    "ax.set_xlabel('Core Porosity (%)')\n",
    "\n",
    "ax.semilogy(core_data['CPOR'], 10**(x[0] * core_data['CPOR'] + x[1]), 'r-')\n",
    "\n",
    "\n",
    "#Format the axes so that they show whole numbers\n",
    "for axis in [ax.yaxis, ax.xaxis]:\n",
    "    formatter = FuncFormatter(lambda y, _: '{:.16g}'.format(y))\n",
    "    axis.set_major_formatter(formatter)\n",
    "    \n"
   ]
  },
  {
   "cell_type": "markdown",
   "metadata": {},
   "source": [
    "Our next step is to calculate a predicted permeability using our new equation and add it as a new column in the pandas dataframe."
   ]
  },
  {
   "cell_type": "code",
   "execution_count": 11,
   "metadata": {},
   "outputs": [],
   "source": [
    "core_data[\"PRED_PERM\"] = 10**(x[0] * core_data['CPOR'] + x[1])"
   ]
  },
  {
   "cell_type": "code",
   "execution_count": 12,
   "metadata": {},
   "outputs": [
    {
     "data": {
      "text/html": [
       "<div>\n",
       "<style scoped>\n",
       "    .dataframe tbody tr th:only-of-type {\n",
       "        vertical-align: middle;\n",
       "    }\n",
       "\n",
       "    .dataframe tbody tr th {\n",
       "        vertical-align: top;\n",
       "    }\n",
       "\n",
       "    .dataframe thead th {\n",
       "        text-align: right;\n",
       "    }\n",
       "</style>\n",
       "<table border=\"1\" class=\"dataframe\">\n",
       "  <thead>\n",
       "    <tr style=\"text-align: right;\">\n",
       "      <th></th>\n",
       "      <th>DEPTH</th>\n",
       "      <th>SW</th>\n",
       "      <th>SO</th>\n",
       "      <th>CKH</th>\n",
       "      <th>CPOR</th>\n",
       "      <th>CGD</th>\n",
       "      <th>PRED_PERM</th>\n",
       "    </tr>\n",
       "  </thead>\n",
       "  <tbody>\n",
       "    <tr>\n",
       "      <th>count</th>\n",
       "      <td>108.000000</td>\n",
       "      <td>108.000000</td>\n",
       "      <td>108.000000</td>\n",
       "      <td>108.000000</td>\n",
       "      <td>108.000000</td>\n",
       "      <td>108.000000</td>\n",
       "      <td>108.000000</td>\n",
       "    </tr>\n",
       "    <tr>\n",
       "      <th>mean</th>\n",
       "      <td>10761.782905</td>\n",
       "      <td>35.509717</td>\n",
       "      <td>40.728041</td>\n",
       "      <td>114.365102</td>\n",
       "      <td>19.677500</td>\n",
       "      <td>2.661935</td>\n",
       "      <td>106.406799</td>\n",
       "    </tr>\n",
       "    <tr>\n",
       "      <th>std</th>\n",
       "      <td>28.333169</td>\n",
       "      <td>12.124610</td>\n",
       "      <td>11.880550</td>\n",
       "      <td>116.074693</td>\n",
       "      <td>4.366594</td>\n",
       "      <td>0.015253</td>\n",
       "      <td>108.960627</td>\n",
       "    </tr>\n",
       "    <tr>\n",
       "      <th>min</th>\n",
       "      <td>10715.701150</td>\n",
       "      <td>21.489047</td>\n",
       "      <td>0.000000</td>\n",
       "      <td>0.045000</td>\n",
       "      <td>2.360000</td>\n",
       "      <td>2.647000</td>\n",
       "      <td>0.061044</td>\n",
       "    </tr>\n",
       "    <tr>\n",
       "      <th>25%</th>\n",
       "      <td>10738.079762</td>\n",
       "      <td>26.733086</td>\n",
       "      <td>36.095689</td>\n",
       "      <td>36.319000</td>\n",
       "      <td>18.607500</td>\n",
       "      <td>2.655000</td>\n",
       "      <td>34.145923</td>\n",
       "    </tr>\n",
       "    <tr>\n",
       "      <th>50%</th>\n",
       "      <td>10760.648600</td>\n",
       "      <td>31.393546</td>\n",
       "      <td>42.411968</td>\n",
       "      <td>96.861500</td>\n",
       "      <td>20.330000</td>\n",
       "      <td>2.657000</td>\n",
       "      <td>66.788949</td>\n",
       "    </tr>\n",
       "    <tr>\n",
       "      <th>75%</th>\n",
       "      <td>10783.054388</td>\n",
       "      <td>41.666675</td>\n",
       "      <td>47.502606</td>\n",
       "      <td>151.569250</td>\n",
       "      <td>22.137500</td>\n",
       "      <td>2.663000</td>\n",
       "      <td>135.011588</td>\n",
       "    </tr>\n",
       "    <tr>\n",
       "      <th>max</th>\n",
       "      <td>10811.411500</td>\n",
       "      <td>77.868532</td>\n",
       "      <td>99.226071</td>\n",
       "      <td>788.070000</td>\n",
       "      <td>25.280000</td>\n",
       "      <td>2.758000</td>\n",
       "      <td>458.919473</td>\n",
       "    </tr>\n",
       "  </tbody>\n",
       "</table>\n",
       "</div>"
      ],
      "text/plain": [
       "              DEPTH          SW          SO         CKH        CPOR  \\\n",
       "count    108.000000  108.000000  108.000000  108.000000  108.000000   \n",
       "mean   10761.782905   35.509717   40.728041  114.365102   19.677500   \n",
       "std       28.333169   12.124610   11.880550  116.074693    4.366594   \n",
       "min    10715.701150   21.489047    0.000000    0.045000    2.360000   \n",
       "25%    10738.079762   26.733086   36.095689   36.319000   18.607500   \n",
       "50%    10760.648600   31.393546   42.411968   96.861500   20.330000   \n",
       "75%    10783.054388   41.666675   47.502606  151.569250   22.137500   \n",
       "max    10811.411500   77.868532   99.226071  788.070000   25.280000   \n",
       "\n",
       "              CGD   PRED_PERM  \n",
       "count  108.000000  108.000000  \n",
       "mean     2.661935  106.406799  \n",
       "std      0.015253  108.960627  \n",
       "min      2.647000    0.061044  \n",
       "25%      2.655000   34.145923  \n",
       "50%      2.657000   66.788949  \n",
       "75%      2.663000  135.011588  \n",
       "max      2.758000  458.919473  "
      ]
     },
     "execution_count": 12,
     "metadata": {},
     "output_type": "execute_result"
    }
   ],
   "source": [
    "core_data.describe()"
   ]
  },
  {
   "cell_type": "markdown",
   "metadata": {},
   "source": [
    "We can then make a quick plot of our prediction vs the original measurement. To get an idea of how well the prediction did, we can add a 1 to 1 line to aid the visualisation."
   ]
  },
  {
   "cell_type": "code",
   "execution_count": 13,
   "metadata": {},
   "outputs": [
    {
     "data": {
      "text/plain": [
       "[<matplotlib.lines.Line2D at 0x11bb11128>]"
      ]
     },
     "execution_count": 13,
     "metadata": {},
     "output_type": "execute_result"
    },
    {
     "data": {
      "image/png": "[encoded data removed]",
      "text/plain": [
       "<Figure size 432x288 with 1 Axes>"
      ]
     },
     "metadata": {},
     "output_type": "display_data"
    }
   ],
   "source": [
    "fig, ax = plt.subplots()\n",
    "\n",
    "ax.axis([0.01, 10000, 0.01, 10000])\n",
    "ax.loglog(core_data['CKH'], core_data['PRED_PERM'], 'bo')\n",
    "ax.loglog([0.01, 10000], [0.01, 10000], 'r-')"
   ]
  },
  {
   "cell_type": "code",
   "execution_count": null,
   "metadata": {},
   "outputs": [],
   "source": []
  }
 ],
 "metadata": {
  "kernelspec": {
   "display_name": "Python 3.6.4 64-bit ('base': conda)",
   "language": "python",
   "name": "python36464bitbaseconda57932f4328ed418c8f3e34148e4838c8"
  },
  "language_info": {
   "codemirror_mode": {
    "name": "ipython",
    "version": 3
   },
   "file_extension": ".py",
   "mimetype": "text/x-python",
   "name": "python",
   "nbconvert_exporter": "python",
   "pygments_lexer": "ipython3",
   "version": "3.6.4"
  }
 },
 "nbformat": 4,
 "nbformat_minor": 2
}
