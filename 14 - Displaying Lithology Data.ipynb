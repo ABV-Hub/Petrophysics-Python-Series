{
 "cells": [
  {
   "cell_type": "markdown",
   "metadata": {},
   "source": [
    "# 14 - Displaying Lithology Data Using Python and matplotlib\n",
    "  \n",
    "**Created By:** Andy McDonald  \n",
    "**Link to Article:** https://andymcdonaldgeo.medium.com/displaying-lithology-data-using-python-and-matplotlib-58b4d251ee7a"
   ]
  },
  {
   "cell_type": "markdown",
   "metadata": {},
   "source": [
    "Adding lithology information to a well log plot can enhance a petrophysical or geological interpretation. It can be used to understand why some log responses may behave the way they do. This data may have been sourced from a previous mineralogical interpretation or from mud logs.\n",
    "\n",
    "In my previous article: Enhancing Visualization of Well Logs With Plot Fills, we saw: how to apply fixed color fill between a curve and the edge of a track, how to apply a density-neutron crossover fill and how to apply a variable fill based upon the value of curve being plotted. \n",
    "\n",
    "In this notebook, we will cover how to use a variable fill to apply not only a color to our plot, but also a hatching. Using these two options allows us to generate lithological fill.\n",
    "\n",
    "This notebook forms part of my Python & Petrophysics series. The full series can be found here. For the examples below you can find my Jupyter Notebook and dataset on my GitHub repository at the following link.\n",
    "\n",
    "## Setting up the Libraries \n",
    "The first step is to bring in the libraries we will be working with for this article. We will be using just two libraries: pandas and matplotlib. This will allow us to load our data to a dataframe and display it on a plot."
   ]
  },
  {
   "cell_type": "code",
   "execution_count": 1,
   "metadata": {},
   "outputs": [],
   "source": [
    "import pandas as pd\n",
    "import matplotlib.pyplot as plt"
   ]
  },
  {
   "cell_type": "markdown",
   "metadata": {},
   "source": [
    "## Loading the Data\n",
    "The dataset we will be using for this article comes from a recent Machine Learning competition for lithology prediction that was run by Xeek and FORCE (https://xeek.ai/challenges/force-well-logs/overview). The objective of the competition was to predict lithology from a dataset consisting 98 training wells each with varying degrees of log completeness. The objective was to predict lithofacies based on the log measurements. To download the file, navigate to the Data section of the link above.\n",
    "\n",
    "The data can be loaded using pd.read_csv(). As this is quite a large dataset, we will use a single well from it to work with and we will also take just the curves (columns) we need. We can do that by taking a subset of the data like so:"
   ]
  },
  {
   "cell_type": "code",
   "execution_count": 2,
   "metadata": {},
   "outputs": [],
   "source": [
    "alldata = pd.read_csv('Data/xeek_train_subset.csv')"
   ]
  },
  {
   "cell_type": "code",
   "execution_count": 3,
   "metadata": {},
   "outputs": [],
   "source": [
    "data = alldata.loc[alldata['WELL'] == '16/10-1'][['DEPTH_MD', 'GR', 'RHOB', 'NPHI', 'FORCE_2020_LITHOFACIES_LITHOLOGY']]"
   ]
  },
  {
   "cell_type": "markdown",
   "metadata": {},
   "source": [
    "To make things simpler we will rename the FORCE_2020_LITHOFACIES_LITHOLOGY column to just LITHOLOGY . This is done by using the rename function on the dataframe and passing a dictionary of the old name and the new name. Note that using the `inplace=True` argument will replace the column name in the original dataframe."
   ]
  },
  {
   "cell_type": "code",
   "execution_count": 4,
   "metadata": {},
   "outputs": [],
   "source": [
    "data.rename(columns={'FORCE_2020_LITHOFACIES_LITHOLOGY':'LITHOLOGY'}, inplace=True)"
   ]
  },
  {
   "cell_type": "markdown",
   "metadata": {},
   "source": [
    "When we call upon our dataframe using `data.head()` we can see that our dataset is small and our lithology column has been renamed."
   ]
  },
  {
   "cell_type": "code",
   "execution_count": 5,
   "metadata": {},
   "outputs": [
    {
     "data": {
      "text/html": [
       "<div>\n",
       "<style scoped>\n",
       "    .dataframe tbody tr th:only-of-type {\n",
       "        vertical-align: middle;\n",
       "    }\n",
       "\n",
       "    .dataframe tbody tr th {\n",
       "        vertical-align: top;\n",
       "    }\n",
       "\n",
       "    .dataframe thead th {\n",
       "        text-align: right;\n",
       "    }\n",
       "</style>\n",
       "<table border=\"1\" class=\"dataframe\">\n",
       "  <thead>\n",
       "    <tr style=\"text-align: right;\">\n",
       "      <th></th>\n",
       "      <th>DEPTH_MD</th>\n",
       "      <th>GR</th>\n",
       "      <th>RHOB</th>\n",
       "      <th>NPHI</th>\n",
       "      <th>LITHOLOGY</th>\n",
       "    </tr>\n",
       "  </thead>\n",
       "  <tbody>\n",
       "    <tr>\n",
       "      <th>58694</th>\n",
       "      <td>439.41579</td>\n",
       "      <td>51.431892</td>\n",
       "      <td>NaN</td>\n",
       "      <td>NaN</td>\n",
       "      <td>65030</td>\n",
       "    </tr>\n",
       "    <tr>\n",
       "      <th>58695</th>\n",
       "      <td>439.56779</td>\n",
       "      <td>49.472492</td>\n",
       "      <td>NaN</td>\n",
       "      <td>NaN</td>\n",
       "      <td>65030</td>\n",
       "    </tr>\n",
       "    <tr>\n",
       "      <th>58696</th>\n",
       "      <td>439.71979</td>\n",
       "      <td>50.167278</td>\n",
       "      <td>NaN</td>\n",
       "      <td>NaN</td>\n",
       "      <td>65030</td>\n",
       "    </tr>\n",
       "    <tr>\n",
       "      <th>58697</th>\n",
       "      <td>439.87179</td>\n",
       "      <td>46.572552</td>\n",
       "      <td>NaN</td>\n",
       "      <td>NaN</td>\n",
       "      <td>65030</td>\n",
       "    </tr>\n",
       "    <tr>\n",
       "      <th>58698</th>\n",
       "      <td>440.02379</td>\n",
       "      <td>48.498447</td>\n",
       "      <td>NaN</td>\n",
       "      <td>NaN</td>\n",
       "      <td>65030</td>\n",
       "    </tr>\n",
       "  </tbody>\n",
       "</table>\n",
       "</div>"
      ],
      "text/plain": [
       "        DEPTH_MD         GR  RHOB  NPHI  LITHOLOGY\n",
       "58694  439.41579  51.431892   NaN   NaN      65030\n",
       "58695  439.56779  49.472492   NaN   NaN      65030\n",
       "58696  439.71979  50.167278   NaN   NaN      65030\n",
       "58697  439.87179  46.572552   NaN   NaN      65030\n",
       "58698  440.02379  48.498447   NaN   NaN      65030"
      ]
     },
     "execution_count": 5,
     "metadata": {},
     "output_type": "execute_result"
    }
   ],
   "source": [
    "data.head()"
   ]
  },
  {
   "cell_type": "markdown",
   "metadata": {},
   "source": [
    "## Setting up the Lithologies Using a Nested Dictionary\n",
    "The lithologies currently listed in the lithology column contain a series of numbers. We can map these in a nested dictionary where we have the full name of the lithology, a simplified number (if required for conversion), the hatch style, and the color of the fill.\n",
    "\n",
    "The colors are based on the Kansas Geological Survey website. However, hatching symbols are limited in the default setup of matplotlib. In a future article, I will cover how to create custom hatches and lithologies."
   ]
  },
  {
   "cell_type": "code",
   "execution_count": 6,
   "metadata": {},
   "outputs": [
    {
     "data": {
      "text/plain": [
       "10"
      ]
     },
     "execution_count": 6,
     "metadata": {},
     "output_type": "execute_result"
    }
   ],
   "source": [
    "data['LITHOLOGY'].nunique()"
   ]
  },
  {
   "cell_type": "code",
   "execution_count": 7,
   "metadata": {},
   "outputs": [],
   "source": [
    "lithology_numbers = {30000: {'lith':'Sandstone', 'lith_num':1, 'hatch': '..', 'color':'#ffff00'},\n",
    "                 65030: {'lith':'Sandstone/Shale', 'lith_num':2, 'hatch':'-.', 'color':'#ffe119'},\n",
    "                 65000: {'lith':'Shale', 'lith_num':3, 'hatch':'--', 'color':'#bebebe'},\n",
    "                 80000: {'lith':'Marl', 'lith_num':4, 'hatch':'', 'color':'#7cfc00'},\n",
    "                 74000: {'lith':'Dolomite', 'lith_num':5, 'hatch':'-/', 'color':'#8080ff'},\n",
    "                 70000: {'lith':'Limestone', 'lith_num':6, 'hatch':'+', 'color':'#80ffff'},\n",
    "                 70032: {'lith':'Chalk', 'lith_num':7, 'hatch':'..', 'color':'#80ffff'},\n",
    "                 88000: {'lith':'Halite', 'lith_num':8, 'hatch':'x', 'color':'#7ddfbe'},\n",
    "                 86000: {'lith':'Anhydrite', 'lith_num':9, 'hatch':'', 'color':'#ff80ff'},\n",
    "                 99000: {'lith':'Tuff', 'lith_num':10, 'hatch':'||', 'color':'#ff8c00'},\n",
    "                 90000: {'lith':'Coal', 'lith_num':11, 'hatch':'', 'color':'black'},\n",
    "                 93000: {'lith':'Basement', 'lith_num':12, 'hatch':'-|', 'color':'#ef138a'}}"
   ]
  },
  {
   "cell_type": "code",
   "execution_count": 8,
   "metadata": {},
   "outputs": [
    {
     "data": {
      "text/plain": [
       "'#ffff00'"
      ]
     },
     "execution_count": 8,
     "metadata": {},
     "output_type": "execute_result"
    }
   ],
   "source": [
    "lithology_numbers[30000]['color']"
   ]
  },
  {
   "cell_type": "markdown",
   "metadata": {},
   "source": [
    "We can quickly convert our nested dictionary to a pandas dataframe to make it easier for humans to read by using the from_dict function like so."
   ]
  },
  {
   "cell_type": "code",
   "execution_count": 9,
   "metadata": {},
   "outputs": [
    {
     "data": {
      "text/html": [
       "<div>\n",
       "<style scoped>\n",
       "    .dataframe tbody tr th:only-of-type {\n",
       "        vertical-align: middle;\n",
       "    }\n",
       "\n",
       "    .dataframe tbody tr th {\n",
       "        vertical-align: top;\n",
       "    }\n",
       "\n",
       "    .dataframe thead th {\n",
       "        text-align: right;\n",
       "    }\n",
       "</style>\n",
       "<table border=\"1\" class=\"dataframe\">\n",
       "  <thead>\n",
       "    <tr style=\"text-align: right;\">\n",
       "      <th></th>\n",
       "      <th>lith</th>\n",
       "      <th>lith_num</th>\n",
       "      <th>hatch</th>\n",
       "      <th>color</th>\n",
       "    </tr>\n",
       "    <tr>\n",
       "      <th>LITHOLOGY</th>\n",
       "      <th></th>\n",
       "      <th></th>\n",
       "      <th></th>\n",
       "      <th></th>\n",
       "    </tr>\n",
       "  </thead>\n",
       "  <tbody>\n",
       "    <tr>\n",
       "      <th>30000</th>\n",
       "      <td>Sandstone</td>\n",
       "      <td>1</td>\n",
       "      <td>..</td>\n",
       "      <td>#ffff00</td>\n",
       "    </tr>\n",
       "    <tr>\n",
       "      <th>65030</th>\n",
       "      <td>Sandstone/Shale</td>\n",
       "      <td>2</td>\n",
       "      <td>-.</td>\n",
       "      <td>#ffe119</td>\n",
       "    </tr>\n",
       "    <tr>\n",
       "      <th>65000</th>\n",
       "      <td>Shale</td>\n",
       "      <td>3</td>\n",
       "      <td>--</td>\n",
       "      <td>#bebebe</td>\n",
       "    </tr>\n",
       "    <tr>\n",
       "      <th>80000</th>\n",
       "      <td>Marl</td>\n",
       "      <td>4</td>\n",
       "      <td></td>\n",
       "      <td>#7cfc00</td>\n",
       "    </tr>\n",
       "    <tr>\n",
       "      <th>74000</th>\n",
       "      <td>Dolomite</td>\n",
       "      <td>5</td>\n",
       "      <td>-/</td>\n",
       "      <td>#8080ff</td>\n",
       "    </tr>\n",
       "    <tr>\n",
       "      <th>70000</th>\n",
       "      <td>Limestone</td>\n",
       "      <td>6</td>\n",
       "      <td>+</td>\n",
       "      <td>#80ffff</td>\n",
       "    </tr>\n",
       "    <tr>\n",
       "      <th>70032</th>\n",
       "      <td>Chalk</td>\n",
       "      <td>7</td>\n",
       "      <td>..</td>\n",
       "      <td>#80ffff</td>\n",
       "    </tr>\n",
       "    <tr>\n",
       "      <th>88000</th>\n",
       "      <td>Halite</td>\n",
       "      <td>8</td>\n",
       "      <td>x</td>\n",
       "      <td>#7ddfbe</td>\n",
       "    </tr>\n",
       "    <tr>\n",
       "      <th>86000</th>\n",
       "      <td>Anhydrite</td>\n",
       "      <td>9</td>\n",
       "      <td></td>\n",
       "      <td>#ff80ff</td>\n",
       "    </tr>\n",
       "    <tr>\n",
       "      <th>99000</th>\n",
       "      <td>Tuff</td>\n",
       "      <td>10</td>\n",
       "      <td>||</td>\n",
       "      <td>#ff8c00</td>\n",
       "    </tr>\n",
       "    <tr>\n",
       "      <th>90000</th>\n",
       "      <td>Coal</td>\n",
       "      <td>11</td>\n",
       "      <td></td>\n",
       "      <td>black</td>\n",
       "    </tr>\n",
       "    <tr>\n",
       "      <th>93000</th>\n",
       "      <td>Basement</td>\n",
       "      <td>12</td>\n",
       "      <td>-|</td>\n",
       "      <td>#ef138a</td>\n",
       "    </tr>\n",
       "  </tbody>\n",
       "</table>\n",
       "</div>"
      ],
      "text/plain": [
       "                      lith  lith_num hatch    color\n",
       "LITHOLOGY                                          \n",
       "30000            Sandstone         1    ..  #ffff00\n",
       "65030      Sandstone/Shale         2    -.  #ffe119\n",
       "65000                Shale         3    --  #bebebe\n",
       "80000                 Marl         4        #7cfc00\n",
       "74000             Dolomite         5    -/  #8080ff\n",
       "70000            Limestone         6     +  #80ffff\n",
       "70032                Chalk         7    ..  #80ffff\n",
       "88000               Halite         8     x  #7ddfbe\n",
       "86000            Anhydrite         9        #ff80ff\n",
       "99000                 Tuff        10    ||  #ff8c00\n",
       "90000                 Coal        11          black\n",
       "93000             Basement        12    -|  #ef138a"
      ]
     },
     "execution_count": 9,
     "metadata": {},
     "output_type": "execute_result"
    }
   ],
   "source": [
    "df_lith = pd.DataFrame.from_dict(lithology_numbers, orient='index')\n",
    "df_lith.index.name = 'LITHOLOGY'\n",
    "df_lith"
   ]
  },
  {
   "cell_type": "markdown",
   "metadata": {},
   "source": [
    "By just looking at the dictionary, it can be difficult to understand how each of these will look. To solve this, we can quickly create a simple image showing the different hatchings and colors for each lithology. \n",
    "To do this, we will first define some co-ordinates for two new variables x and y. Then we will setup the matplotlib figure and axes using subplots:\n",
    "\n",
    "`fig, axes = plt.subplots(ncols=4, nrows=3, sharex=True, sharey=True, fig size=(10,5), subplot_kw={'xticks':[], 'yticks':[]})`\n",
    "\n",
    "This allows us to define the size of the plot (4 columns by 3 rows), the figure size, and turning off the tick marks on both axes.\n",
    "We then want to loop through the flattened axes and the nested dictionary to add the data and hatched color fills to each subplot. As we are dealing with a nested dictionary, we need to us square brackets multiple times [ ][ ] to go in two levels. The first level is the key, and the second level is the key of the nested dictionary. For example, to retrieve the color we can access it by typing in `lithology_numbers[30000]['color']`\n",
    "\n",
    "This generates a nice looking legend that we can refer to later on. Notice that the lithology symbols do not 100% match the Kansas Geological Survey chart. We will see how to resolve this in a future article."
   ]
  },
  {
   "cell_type": "code",
   "execution_count": 10,
   "metadata": {},
   "outputs": [
    {
     "data": {
      "image/png": "[encoded data removed]",
      "text/plain": [
       "<Figure size 720x360 with 12 Axes>"
      ]
     },
     "metadata": {},
     "output_type": "display_data"
    }
   ],
   "source": [
    "y = [0, 1]\n",
    "x = [1, 1]\n",
    "\n",
    "fig, axes = plt.subplots(ncols=4,nrows=3, sharex=True, sharey=True,\n",
    "                         figsize=(10,5), subplot_kw={'xticks': [], 'yticks': []})\n",
    "\n",
    "for ax, key in zip(axes.flat, lithology_numbers.keys()):\n",
    "    ax.plot(x, y)\n",
    "    ax.fill_betweenx(y, 0, 1, facecolor=lithology_numbers[key]['color'], hatch=lithology_numbers[key]['hatch'])\n",
    "    ax.set_xlim(0, 0.1)\n",
    "    ax.set_ylim(0, 1)\n",
    "    ax.set_title(str(lithology_numbers[key]['lith']))\n",
    "\n",
    "plt.tight_layout()\n",
    "\n",
    "plt.show()\n"
   ]
  },
  {
   "cell_type": "markdown",
   "metadata": {},
   "source": [
    "## Setting up the Well Log Plot With a Lithology Track\n",
    "In previous articles (Enhancing Visualization of Well Logs With Plot Fills and Exploratory Data Analysis With Well Log Data) I have set the plot up on the fly and passed in the dataframe I am working with. In this article, I will be creating a simple makeplot function which we can pass the dataframe into.\n",
    "\n",
    "This allows us to easily reuse the code for other dataframes, assuming the curve names are the same. This could be further refined to make it more generic. This new function takes in three arguments, the dataframe, the top_depth, and the bottom depth.\n",
    "\n",
    "This code will generate a well log plot with 3 tracks one for the Gamma Ray, one containing both Neutron Porosity and Bulk Density, and the final one containing our geological lithology data."
   ]
  },
  {
   "cell_type": "code",
   "execution_count": 11,
   "metadata": {},
   "outputs": [],
   "source": [
    "def makeplot(well, top_depth, bottom_depth):\n",
    "    fig, ax = plt.subplots(figsize=(15,10))\n",
    "\n",
    "    #Set up the plot axes\n",
    "    ax1 = plt.subplot2grid((1,3), (0,0), rowspan=1, colspan = 1)\n",
    "    ax2 = plt.subplot2grid((1,3), (0,1), rowspan=1, colspan = 1, sharey = ax1)\n",
    "    ax3 = ax2.twiny() #Twins the y-axis for the density track with the neutron track\n",
    "    ax4 = plt.subplot2grid((1,3), (0,2), rowspan=1, colspan = 1, sharey = ax1)\n",
    "\n",
    "    # As our curve scales will be detached from the top of the track,\n",
    "    # this code adds the top border back in without dealing with splines\n",
    "    ax10 = ax1.twiny()\n",
    "    ax10.xaxis.set_visible(False)\n",
    "    ax11 = ax2.twiny()\n",
    "    ax11.xaxis.set_visible(False)\n",
    "    ax13 = ax4.twiny()\n",
    "    ax13.xaxis.set_visible(False)\n",
    "\n",
    "    # Gamma Ray track\n",
    "    ax1.plot(well[\"GR\"], well['DEPTH_MD'], color = \"green\", linewidth = 0.5)\n",
    "    ax1.set_xlabel(\"Gamma\")\n",
    "    ax1.xaxis.label.set_color(\"green\")\n",
    "    ax1.set_xlim(0, 200)\n",
    "    ax1.set_ylabel(\"Depth (m)\")\n",
    "    ax1.tick_params(axis='x', colors=\"green\")\n",
    "    ax1.spines[\"top\"].set_edgecolor(\"green\")\n",
    "    ax1.title.set_color('green')\n",
    "    ax1.set_xticks([0, 50, 100, 150, 200])\n",
    "\n",
    "    # Density track\n",
    "    ax2.plot(well[\"RHOB\"], well['DEPTH_MD'], color = \"red\", linewidth = 0.5)\n",
    "    ax2.set_xlabel(\"Density\")\n",
    "    ax2.set_xlim(1.95, 2.95)\n",
    "    ax2.xaxis.label.set_color(\"red\")\n",
    "    ax2.tick_params(axis='x', colors=\"red\")\n",
    "    ax2.spines[\"top\"].set_edgecolor(\"red\")\n",
    "    ax2.set_xticks([1.95, 2.45, 2.95])\n",
    "\n",
    "    # Neutron track placed ontop of density track\n",
    "    ax3.plot(well[\"NPHI\"], well['DEPTH_MD'], color = \"blue\", linewidth = 0.5)\n",
    "    ax3.set_xlabel('Neutron')\n",
    "    ax3.xaxis.label.set_color(\"blue\")\n",
    "    ax3.set_xlim(0.45, -0.15)\n",
    "    ax3.tick_params(axis='x', colors=\"blue\")\n",
    "    ax3.spines[\"top\"].set_position((\"axes\", 1.08))\n",
    "    ax3.spines[\"top\"].set_visible(True)\n",
    "    ax3.spines[\"top\"].set_edgecolor(\"blue\")\n",
    "    ax3.set_xticks([0.45,  0.15, -0.15])\n",
    "\n",
    "    # Lithology track\n",
    "    ax4.plot(well[\"LITHOLOGY\"], well['DEPTH_MD'], color = \"black\", linewidth = 0.5)\n",
    "    ax4.set_xlabel(\"Lithology\")\n",
    "    ax4.set_xlim(0, 1)\n",
    "    ax4.xaxis.label.set_color(\"black\")\n",
    "    ax4.tick_params(axis='x', colors=\"black\")\n",
    "    ax4.spines[\"top\"].set_edgecolor(\"black\")\n",
    "\n",
    "    for key in lithology_numbers.keys():\n",
    "        color = lithology_numbers[key]['color']\n",
    "        hatch = lithology_numbers[key]['hatch']\n",
    "        ax4.fill_betweenx(well['DEPTH_MD'], 0, well['LITHOLOGY'], where=(well['LITHOLOGY']==key),\n",
    "                         facecolor=color, hatch=hatch)\n",
    "        \n",
    "\n",
    "    ax4.set_xticks([0, 1])\n",
    "\n",
    "    # Common functions for setting up the plot can be extracted into\n",
    "    # a for loop. This saves repeating code.\n",
    "    for ax in [ax1, ax2, ax4]:\n",
    "        ax.set_ylim(bottom_depth, top_depth)\n",
    "        ax.grid(which='major', color='lightgrey', linestyle='-')\n",
    "        ax.xaxis.set_ticks_position(\"top\")\n",
    "        ax.xaxis.set_label_position(\"top\")\n",
    "        ax.spines[\"top\"].set_position((\"axes\", 1.02))\n",
    "        \n",
    "        \n",
    "    for ax in [ax2, ax3, ax4]:\n",
    "        plt.setp(ax.get_yticklabels(), visible = False)\n",
    "        \n",
    "    plt.tight_layout()\n",
    "    fig.subplots_adjust(wspace = 0.15)\n",
    "    "
   ]
  },
  {
   "cell_type": "markdown",
   "metadata": {},
   "source": [
    "The key piece of code to ensure our lithology `fill_betweenx` function from matplotlib creates a variable fill is shown below. All we are doing is looping over each of the keys within the dictionary, assigning simpler variable names to the features within the dictionary, and then using the `fill_betweenx()` function to check if the value in our lithology column equals the dictionary key. If it does, then it will apply the relevant color and hatching to the fill. It will then move on to the next key and repeat until all keys have been cycled through.\n",
    "\n",
    "## Displaying the Well Log Plot & Lithology\n",
    "Once we have the plot set up as a function. We can simply pass in our dataframe and the depths that we want to plot. In this example, we will focus on a small section of the data so that we are able to see the change in the plot fills."
   ]
  },
  {
   "cell_type": "code",
   "execution_count": 12,
   "metadata": {},
   "outputs": [
    {
     "data": {
      "image/png": "[encoded data removed]",
      "text/plain": [
       "<Figure size 1080x720 with 7 Axes>"
      ]
     },
     "metadata": {
      "needs_background": "light"
     },
     "output_type": "display_data"
    }
   ],
   "source": [
    "makeplot(data, 2975, 3050)"
   ]
  },
  {
   "cell_type": "markdown",
   "metadata": {},
   "source": [
    "## Summary\n",
    "In this article we have covered how to setup and display lithology data using matplotlib's fill_betweenx() function. We saw how a nested dictionary can be used to store parameters for each lithology and then be called upon using a for loop to fill with the correct color and hatch.\n",
    "Adding this data to a plot can enhance how the geoscientist or petrophysicist relates the electrical logging measurements to the geology.\n",
    "\n",
    "***Thanks for reading!***\n",
    "\n",
    "If you have found this article useful, please feel free to check out my other articles looking at various aspects of Python and well log data. You can also find my code used in this article and others at GitHub.\n",
    "If you want to get in touch you can find me on LinkedIn or at my website.\n",
    "Interested in learning more about python and well log data or petrophysics? Follow me on Medium.\n",
    "## References\n",
    "Kansas Geological Survey, Lithology Symbols. http://www.kgs.ku.edu/PRS/Ozark/PROFILE/HELP/DATA_ENTRY/lithology/Lithology-Symbols.html\n",
    "\n",
    "\"Lithofacies data was provided by the FORCE Machine Learning competition with well logs and seismic 2020\" Bormann P., Aursand P., Dilib F., Dischington P., Manral S. 2020. 2020 FORCE Machine Learning Contest. https://github.com/bolgebrygg/Force-2020-Machine-Learning-competition"
   ]
  }
 ],
 "metadata": {
  "file_extension": ".py",
  "kernelspec": {
   "display_name": "Python 3.6.4 64-bit ('base': conda)",
   "language": "python",
   "name": "python36464bitbaseconda57932f4328ed418c8f3e34148e4838c8"
  },
  "language_info": {
   "codemirror_mode": {
    "name": "ipython",
    "version": 3
   },
   "file_extension": ".py",
   "mimetype": "text/x-python",
   "name": "python",
   "nbconvert_exporter": "python",
   "pygments_lexer": "ipython3",
   "version": "3.6.4"
  },
  "mimetype": "text/x-python",
  "name": "python",
  "npconvert_exporter": "python",
  "pygments_lexer": "ipython3",
  "version": 3
 },
 "nbformat": 4,
 "nbformat_minor": 2
}
