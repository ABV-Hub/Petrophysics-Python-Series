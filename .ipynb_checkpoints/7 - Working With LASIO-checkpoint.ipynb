{
 "cells": [
  {
   "cell_type": "code",
   "execution_count": 5,
   "metadata": {},
   "outputs": [],
   "source": [
    "import pandas as pd\n",
    "import lasio"
   ]
  },
  {
   "cell_type": "code",
   "execution_count": 6,
   "metadata": {},
   "outputs": [],
   "source": [
    "las = lasio.read(\"Data/15-9-19_SR_COMP.LAS\")"
   ]
  },
  {
   "cell_type": "code",
   "execution_count": 7,
   "metadata": {},
   "outputs": [
    {
     "name": "stdout",
     "output_type": "stream",
     "text": [
      "DEPT\n",
      "AC\n",
      "CALI\n",
      "DEN\n",
      "GR\n",
      "NEU\n",
      "RDEP\n",
      "RMED\n"
     ]
    }
   ],
   "source": [
    "for curve in las.curves:\n",
    "    print(curve.mnemonic)"
   ]
  },
  {
   "cell_type": "code",
   "execution_count": 8,
   "metadata": {},
   "outputs": [
    {
     "name": "stdout",
     "output_type": "stream",
     "text": [
      "Curve: DEPT, Units: M, Description: 1  DEPTH\n",
      "Curve: AC, Units: US/F, Description: 2  Sonic Transit Time (Slowness)\n",
      "Curve: CALI, Units: IN, Description: 3  Caliper\n",
      "Curve: DEN, Units: G/CC, Description: 4  Bulk Density\n",
      "Curve: GR, Units: GAPI, Description: 5  Gamma Ray\n",
      "Curve: NEU, Units: %, Description: 6  Neutron Porosity\n",
      "Curve: RDEP, Units: OHMM, Description: 7  Deep Resistivity\n",
      "Curve: RMED, Units: OHMM, Description: 8  Medium Resistivity\n",
      "There are a total of: 8 curves present within this file\n"
     ]
    }
   ],
   "source": [
    "for count, curve in enumerate(las.curves):\n",
    "    print(f\"Curve: {curve.mnemonic}, Units: {curve.unit}, Description: {curve.descr}\")\n",
    "print(f\"There are a total of: {count+1} curves present within this file\")"
   ]
  },
  {
   "cell_type": "code",
   "execution_count": 9,
   "metadata": {},
   "outputs": [
    {
     "data": {
      "text/plain": [
       "[CurveItem(mnemonic=DEPT, unit=M, value=00 001 00 00, descr=1  DEPTH, original_mnemonic=DEPT, data.shape=(29754,)),\n",
       " CurveItem(mnemonic=AC, unit=US/F, value=, descr=2  Sonic Transit Time (Slowness), original_mnemonic=AC, data.shape=(29754,)),\n",
       " CurveItem(mnemonic=CALI, unit=IN, value=, descr=3  Caliper, original_mnemonic=CALI, data.shape=(29754,)),\n",
       " CurveItem(mnemonic=DEN, unit=G/CC, value=, descr=4  Bulk Density, original_mnemonic=DEN, data.shape=(29754,)),\n",
       " CurveItem(mnemonic=GR, unit=GAPI, value=, descr=5  Gamma Ray, original_mnemonic=GR, data.shape=(29754,)),\n",
       " CurveItem(mnemonic=NEU, unit=%, value=, descr=6  Neutron Porosity, original_mnemonic=NEU, data.shape=(29754,)),\n",
       " CurveItem(mnemonic=RDEP, unit=OHMM, value=, descr=7  Deep Resistivity, original_mnemonic=RDEP, data.shape=(29754,)),\n",
       " CurveItem(mnemonic=RMED, unit=OHMM, value=, descr=8  Medium Resistivity, original_mnemonic=RMED, data.shape=(29754,))]"
      ]
     },
     "execution_count": 9,
     "metadata": {},
     "output_type": "execute_result"
    }
   ],
   "source": [
    "las.curves"
   ]
  },
  {
   "cell_type": "code",
   "execution_count": 10,
   "metadata": {},
   "outputs": [
    {
     "name": "stdout",
     "output_type": "stream",
     "text": [
      "Top Depth (STRT): 102.1568\n",
      "Bottom Depth (STOP): 4636.514\n",
      "Depth Increment (STEP): 0.1524\n",
      "Null Value (NULL): -999.25\n",
      "Field Name (FLD): Q15\n",
      "NAME (WELL): 15/9-19\n",
      "WELLBORE (WBN): 15/9-19 SR\n",
      "COUNTRY (NATI): NOR\n",
      "COUNTRY (CTRY): NOR\n",
      "OPERATOR (COMP): STATOIL\n",
      "PERM DATUM (PDAT): MSL\n",
      "RIG NAME (COUN): NORTH SEA\n",
      "STATE (STAT): NORWAY\n",
      "PB WELL ID (PBWE): 15/9-19\n",
      "PB WELLBORE ID (APIN): 15/9-19 SR\n",
      "PB WELL NAME SET (PBWS): ALL\n"
     ]
    }
   ],
   "source": [
    "for item in las.well:\n",
    "    print(f\"{item.descr} ({item.mnemonic}): {item.value}\")"
   ]
  },
  {
   "cell_type": "code",
   "execution_count": 11,
   "metadata": {},
   "outputs": [
    {
     "data": {
      "text/plain": [
       "[HeaderItem(mnemonic=STRT, unit=M, value=102.1568, descr=Top Depth),\n",
       " HeaderItem(mnemonic=STOP, unit=M, value=4636.514, descr=Bottom Depth),\n",
       " HeaderItem(mnemonic=STEP, unit=M, value=0.1524, descr=Depth Increment),\n",
       " HeaderItem(mnemonic=NULL, unit=, value=-999.25, descr=Null Value),\n",
       " HeaderItem(mnemonic=FLD, unit=, value=Q15, descr=Field Name),\n",
       " HeaderItem(mnemonic=WELL, unit=, value=15/9-19, descr=NAME),\n",
       " HeaderItem(mnemonic=WBN, unit=, value=15/9-19 SR, descr=WELLBORE),\n",
       " HeaderItem(mnemonic=NATI, unit=, value=NOR, descr=COUNTRY),\n",
       " HeaderItem(mnemonic=CTRY, unit=, value=NOR, descr=COUNTRY),\n",
       " HeaderItem(mnemonic=COMP, unit=, value=STATOIL, descr=OPERATOR),\n",
       " HeaderItem(mnemonic=PDAT, unit=, value=MSL, descr=PERM DATUM),\n",
       " HeaderItem(mnemonic=COUN, unit=, value=NORTH SEA, descr=RIG NAME),\n",
       " HeaderItem(mnemonic=STAT, unit=, value=NORWAY, descr=STATE),\n",
       " HeaderItem(mnemonic=PBWE, unit=, value=15/9-19, descr=PB WELL ID),\n",
       " HeaderItem(mnemonic=APIN, unit=, value=15/9-19 SR, descr=PB WELLBORE ID),\n",
       " HeaderItem(mnemonic=PBWS, unit=, value=ALL, descr=PB WELL NAME SET)]"
      ]
     },
     "execution_count": 11,
     "metadata": {},
     "output_type": "execute_result"
    }
   ],
   "source": [
    "las.well"
   ]
  },
  {
   "cell_type": "code",
   "execution_count": 12,
   "metadata": {},
   "outputs": [
    {
     "data": {
      "text/plain": [
       "[HeaderItem(mnemonic=STRT, unit=M, value=102.1568, descr=Top Depth),\n",
       " HeaderItem(mnemonic=STOP, unit=M, value=4636.514, descr=Bottom Depth),\n",
       " HeaderItem(mnemonic=STEP, unit=M, value=0.1524, descr=Depth Increment),\n",
       " HeaderItem(mnemonic=NULL, unit=, value=-999.25, descr=Null Value),\n",
       " HeaderItem(mnemonic=FLD, unit=, value=Q15, descr=Field Name),\n",
       " HeaderItem(mnemonic=WELL, unit=, value=15/9-19, descr=NAME),\n",
       " HeaderItem(mnemonic=WBN, unit=, value=15/9-19 SR, descr=WELLBORE),\n",
       " HeaderItem(mnemonic=NATI, unit=, value=NOR, descr=COUNTRY),\n",
       " HeaderItem(mnemonic=CTRY, unit=, value=NOR, descr=COUNTRY),\n",
       " HeaderItem(mnemonic=COMP, unit=, value=STATOIL, descr=OPERATOR),\n",
       " HeaderItem(mnemonic=PDAT, unit=, value=MSL, descr=PERM DATUM),\n",
       " HeaderItem(mnemonic=COUN, unit=, value=NORTH SEA, descr=RIG NAME),\n",
       " HeaderItem(mnemonic=STAT, unit=, value=NORWAY, descr=STATE),\n",
       " HeaderItem(mnemonic=PBWE, unit=, value=15/9-19, descr=PB WELL ID),\n",
       " HeaderItem(mnemonic=APIN, unit=, value=15/9-19 SR, descr=PB WELLBORE ID),\n",
       " HeaderItem(mnemonic=PBWS, unit=, value=ALL, descr=PB WELL NAME SET)]"
      ]
     },
     "execution_count": 12,
     "metadata": {},
     "output_type": "execute_result"
    }
   ],
   "source": [
    "las.well"
   ]
  },
  {
   "cell_type": "code",
   "execution_count": 13,
   "metadata": {},
   "outputs": [
    {
     "data": {
      "text/plain": [
       "'15/9-19'"
      ]
     },
     "execution_count": 13,
     "metadata": {},
     "output_type": "execute_result"
    }
   ],
   "source": [
    "las.well.WELL.value"
   ]
  },
  {
   "cell_type": "code",
   "execution_count": 14,
   "metadata": {},
   "outputs": [],
   "source": [
    "well = las.df()"
   ]
  },
  {
   "cell_type": "code",
   "execution_count": 15,
   "metadata": {},
   "outputs": [
    {
     "data": {
      "text/html": [
       "<div>\n",
       "<style scoped>\n",
       "    .dataframe tbody tr th:only-of-type {\n",
       "        vertical-align: middle;\n",
       "    }\n",
       "\n",
       "    .dataframe tbody tr th {\n",
       "        vertical-align: top;\n",
       "    }\n",
       "\n",
       "    .dataframe thead th {\n",
       "        text-align: right;\n",
       "    }\n",
       "</style>\n",
       "<table border=\"1\" class=\"dataframe\">\n",
       "  <thead>\n",
       "    <tr style=\"text-align: right;\">\n",
       "      <th></th>\n",
       "      <th>AC</th>\n",
       "      <th>CALI</th>\n",
       "      <th>DEN</th>\n",
       "      <th>GR</th>\n",
       "      <th>NEU</th>\n",
       "      <th>RDEP</th>\n",
       "      <th>RMED</th>\n",
       "    </tr>\n",
       "    <tr>\n",
       "      <th>DEPT</th>\n",
       "      <th></th>\n",
       "      <th></th>\n",
       "      <th></th>\n",
       "      <th></th>\n",
       "      <th></th>\n",
       "      <th></th>\n",
       "      <th></th>\n",
       "    </tr>\n",
       "  </thead>\n",
       "  <tbody>\n",
       "    <tr>\n",
       "      <th>102.1568</th>\n",
       "      <td>NaN</td>\n",
       "      <td>NaN</td>\n",
       "      <td>NaN</td>\n",
       "      <td>5.3274</td>\n",
       "      <td>NaN</td>\n",
       "      <td>NaN</td>\n",
       "      <td>NaN</td>\n",
       "    </tr>\n",
       "    <tr>\n",
       "      <th>102.3092</th>\n",
       "      <td>NaN</td>\n",
       "      <td>NaN</td>\n",
       "      <td>NaN</td>\n",
       "      <td>5.8235</td>\n",
       "      <td>NaN</td>\n",
       "      <td>NaN</td>\n",
       "      <td>NaN</td>\n",
       "    </tr>\n",
       "    <tr>\n",
       "      <th>102.4616</th>\n",
       "      <td>NaN</td>\n",
       "      <td>NaN</td>\n",
       "      <td>NaN</td>\n",
       "      <td>6.5228</td>\n",
       "      <td>NaN</td>\n",
       "      <td>NaN</td>\n",
       "      <td>NaN</td>\n",
       "    </tr>\n",
       "    <tr>\n",
       "      <th>102.6140</th>\n",
       "      <td>NaN</td>\n",
       "      <td>NaN</td>\n",
       "      <td>NaN</td>\n",
       "      <td>7.2285</td>\n",
       "      <td>NaN</td>\n",
       "      <td>NaN</td>\n",
       "      <td>NaN</td>\n",
       "    </tr>\n",
       "    <tr>\n",
       "      <th>102.7664</th>\n",
       "      <td>NaN</td>\n",
       "      <td>NaN</td>\n",
       "      <td>NaN</td>\n",
       "      <td>9.5020</td>\n",
       "      <td>NaN</td>\n",
       "      <td>NaN</td>\n",
       "      <td>NaN</td>\n",
       "    </tr>\n",
       "  </tbody>\n",
       "</table>\n",
       "</div>"
      ],
      "text/plain": [
       "          AC  CALI  DEN      GR  NEU  RDEP  RMED\n",
       "DEPT                                            \n",
       "102.1568 NaN   NaN  NaN  5.3274  NaN   NaN   NaN\n",
       "102.3092 NaN   NaN  NaN  5.8235  NaN   NaN   NaN\n",
       "102.4616 NaN   NaN  NaN  6.5228  NaN   NaN   NaN\n",
       "102.6140 NaN   NaN  NaN  7.2285  NaN   NaN   NaN\n",
       "102.7664 NaN   NaN  NaN  9.5020  NaN   NaN   NaN"
      ]
     },
     "execution_count": 15,
     "metadata": {},
     "output_type": "execute_result"
    }
   ],
   "source": [
    "well.head()"
   ]
  },
  {
   "cell_type": "code",
   "execution_count": 16,
   "metadata": {},
   "outputs": [
    {
     "data": {
      "text/html": [
       "<div>\n",
       "<style scoped>\n",
       "    .dataframe tbody tr th:only-of-type {\n",
       "        vertical-align: middle;\n",
       "    }\n",
       "\n",
       "    .dataframe tbody tr th {\n",
       "        vertical-align: top;\n",
       "    }\n",
       "\n",
       "    .dataframe thead th {\n",
       "        text-align: right;\n",
       "    }\n",
       "</style>\n",
       "<table border=\"1\" class=\"dataframe\">\n",
       "  <thead>\n",
       "    <tr style=\"text-align: right;\">\n",
       "      <th></th>\n",
       "      <th>AC</th>\n",
       "      <th>CALI</th>\n",
       "      <th>DEN</th>\n",
       "      <th>GR</th>\n",
       "      <th>NEU</th>\n",
       "      <th>RDEP</th>\n",
       "      <th>RMED</th>\n",
       "    </tr>\n",
       "  </thead>\n",
       "  <tbody>\n",
       "    <tr>\n",
       "      <th>count</th>\n",
       "      <td>7007.000000</td>\n",
       "      <td>7007.000000</td>\n",
       "      <td>7084.000000</td>\n",
       "      <td>28117.000000</td>\n",
       "      <td>7096.000000</td>\n",
       "      <td>12223.000000</td>\n",
       "      <td>12223.000000</td>\n",
       "    </tr>\n",
       "    <tr>\n",
       "      <th>mean</th>\n",
       "      <td>79.498714</td>\n",
       "      <td>9.611068</td>\n",
       "      <td>2.449055</td>\n",
       "      <td>71.986798</td>\n",
       "      <td>20.117166</td>\n",
       "      <td>2.438382</td>\n",
       "      <td>2.386781</td>\n",
       "    </tr>\n",
       "    <tr>\n",
       "      <th>std</th>\n",
       "      <td>18.390705</td>\n",
       "      <td>1.019751</td>\n",
       "      <td>0.165122</td>\n",
       "      <td>32.922780</td>\n",
       "      <td>14.729530</td>\n",
       "      <td>6.631202</td>\n",
       "      <td>5.735731</td>\n",
       "    </tr>\n",
       "    <tr>\n",
       "      <th>min</th>\n",
       "      <td>1.025100</td>\n",
       "      <td>6.000000</td>\n",
       "      <td>1.943000</td>\n",
       "      <td>2.766100</td>\n",
       "      <td>2.178300</td>\n",
       "      <td>0.250300</td>\n",
       "      <td>0.179000</td>\n",
       "    </tr>\n",
       "    <tr>\n",
       "      <th>25%</th>\n",
       "      <td>66.154350</td>\n",
       "      <td>9.142900</td>\n",
       "      <td>2.319975</td>\n",
       "      <td>50.255200</td>\n",
       "      <td>10.631350</td>\n",
       "      <td>0.988000</td>\n",
       "      <td>0.847850</td>\n",
       "    </tr>\n",
       "    <tr>\n",
       "      <th>50%</th>\n",
       "      <td>74.661900</td>\n",
       "      <td>9.589400</td>\n",
       "      <td>2.505600</td>\n",
       "      <td>74.998500</td>\n",
       "      <td>15.718550</td>\n",
       "      <td>1.536100</td>\n",
       "      <td>1.490800</td>\n",
       "    </tr>\n",
       "    <tr>\n",
       "      <th>75%</th>\n",
       "      <td>93.304550</td>\n",
       "      <td>9.904800</td>\n",
       "      <td>2.585125</td>\n",
       "      <td>92.343800</td>\n",
       "      <td>25.067375</td>\n",
       "      <td>2.434050</td>\n",
       "      <td>2.415400</td>\n",
       "    </tr>\n",
       "    <tr>\n",
       "      <th>max</th>\n",
       "      <td>181.813900</td>\n",
       "      <td>20.330400</td>\n",
       "      <td>3.001300</td>\n",
       "      <td>304.333700</td>\n",
       "      <td>146.347400</td>\n",
       "      <td>198.537100</td>\n",
       "      <td>168.604400</td>\n",
       "    </tr>\n",
       "  </tbody>\n",
       "</table>\n",
       "</div>"
      ],
      "text/plain": [
       "                AC         CALI          DEN            GR          NEU  \\\n",
       "count  7007.000000  7007.000000  7084.000000  28117.000000  7096.000000   \n",
       "mean     79.498714     9.611068     2.449055     71.986798    20.117166   \n",
       "std      18.390705     1.019751     0.165122     32.922780    14.729530   \n",
       "min       1.025100     6.000000     1.943000      2.766100     2.178300   \n",
       "25%      66.154350     9.142900     2.319975     50.255200    10.631350   \n",
       "50%      74.661900     9.589400     2.505600     74.998500    15.718550   \n",
       "75%      93.304550     9.904800     2.585125     92.343800    25.067375   \n",
       "max     181.813900    20.330400     3.001300    304.333700   146.347400   \n",
       "\n",
       "               RDEP          RMED  \n",
       "count  12223.000000  12223.000000  \n",
       "mean       2.438382      2.386781  \n",
       "std        6.631202      5.735731  \n",
       "min        0.250300      0.179000  \n",
       "25%        0.988000      0.847850  \n",
       "50%        1.536100      1.490800  \n",
       "75%        2.434050      2.415400  \n",
       "max      198.537100    168.604400  "
      ]
     },
     "execution_count": 16,
     "metadata": {},
     "output_type": "execute_result"
    }
   ],
   "source": [
    "well.describe()"
   ]
  },
  {
   "cell_type": "code",
   "execution_count": 17,
   "metadata": {},
   "outputs": [
    {
     "name": "stdout",
     "output_type": "stream",
     "text": [
      "<class 'pandas.core.frame.DataFrame'>\n",
      "Float64Index: 29754 entries, 102.1568 to 4636.514\n",
      "Data columns (total 7 columns):\n",
      "AC      7007 non-null float64\n",
      "CALI    7007 non-null float64\n",
      "DEN     7084 non-null float64\n",
      "GR      28117 non-null float64\n",
      "NEU     7096 non-null float64\n",
      "RDEP    12223 non-null float64\n",
      "RMED    12223 non-null float64\n",
      "dtypes: float64(7)\n",
      "memory usage: 1.8 MB\n"
     ]
    }
   ],
   "source": [
    "well.info()"
   ]
  },
  {
   "cell_type": "code",
   "execution_count": 18,
   "metadata": {},
   "outputs": [],
   "source": [
    "well_nan = well.isnull() * 1"
   ]
  },
  {
   "cell_type": "code",
   "execution_count": null,
   "metadata": {},
   "outputs": [],
   "source": []
  },
  {
   "cell_type": "code",
   "execution_count": 19,
   "metadata": {},
   "outputs": [
    {
     "data": {
      "text/html": [
       "<div>\n",
       "<style scoped>\n",
       "    .dataframe tbody tr th:only-of-type {\n",
       "        vertical-align: middle;\n",
       "    }\n",
       "\n",
       "    .dataframe tbody tr th {\n",
       "        vertical-align: top;\n",
       "    }\n",
       "\n",
       "    .dataframe thead th {\n",
       "        text-align: right;\n",
       "    }\n",
       "</style>\n",
       "<table border=\"1\" class=\"dataframe\">\n",
       "  <thead>\n",
       "    <tr style=\"text-align: right;\">\n",
       "      <th></th>\n",
       "      <th>AC</th>\n",
       "      <th>CALI</th>\n",
       "      <th>DEN</th>\n",
       "      <th>GR</th>\n",
       "      <th>NEU</th>\n",
       "      <th>RDEP</th>\n",
       "      <th>RMED</th>\n",
       "    </tr>\n",
       "    <tr>\n",
       "      <th>DEPT</th>\n",
       "      <th></th>\n",
       "      <th></th>\n",
       "      <th></th>\n",
       "      <th></th>\n",
       "      <th></th>\n",
       "      <th></th>\n",
       "      <th></th>\n",
       "    </tr>\n",
       "  </thead>\n",
       "  <tbody>\n",
       "    <tr>\n",
       "      <th>102.1568</th>\n",
       "      <td>1</td>\n",
       "      <td>1</td>\n",
       "      <td>1</td>\n",
       "      <td>0</td>\n",
       "      <td>1</td>\n",
       "      <td>1</td>\n",
       "      <td>1</td>\n",
       "    </tr>\n",
       "    <tr>\n",
       "      <th>102.3092</th>\n",
       "      <td>1</td>\n",
       "      <td>1</td>\n",
       "      <td>1</td>\n",
       "      <td>0</td>\n",
       "      <td>1</td>\n",
       "      <td>1</td>\n",
       "      <td>1</td>\n",
       "    </tr>\n",
       "    <tr>\n",
       "      <th>102.4616</th>\n",
       "      <td>1</td>\n",
       "      <td>1</td>\n",
       "      <td>1</td>\n",
       "      <td>0</td>\n",
       "      <td>1</td>\n",
       "      <td>1</td>\n",
       "      <td>1</td>\n",
       "    </tr>\n",
       "    <tr>\n",
       "      <th>102.6140</th>\n",
       "      <td>1</td>\n",
       "      <td>1</td>\n",
       "      <td>1</td>\n",
       "      <td>0</td>\n",
       "      <td>1</td>\n",
       "      <td>1</td>\n",
       "      <td>1</td>\n",
       "    </tr>\n",
       "    <tr>\n",
       "      <th>102.7664</th>\n",
       "      <td>1</td>\n",
       "      <td>1</td>\n",
       "      <td>1</td>\n",
       "      <td>0</td>\n",
       "      <td>1</td>\n",
       "      <td>1</td>\n",
       "      <td>1</td>\n",
       "    </tr>\n",
       "  </tbody>\n",
       "</table>\n",
       "</div>"
      ],
      "text/plain": [
       "          AC  CALI  DEN  GR  NEU  RDEP  RMED\n",
       "DEPT                                        \n",
       "102.1568   1     1    1   0    1     1     1\n",
       "102.3092   1     1    1   0    1     1     1\n",
       "102.4616   1     1    1   0    1     1     1\n",
       "102.6140   1     1    1   0    1     1     1\n",
       "102.7664   1     1    1   0    1     1     1"
      ]
     },
     "execution_count": 19,
     "metadata": {},
     "output_type": "execute_result"
    }
   ],
   "source": [
    "well_nan.head()"
   ]
  },
  {
   "cell_type": "code",
   "execution_count": 20,
   "metadata": {},
   "outputs": [],
   "source": [
    "import matplotlib.pyplot as plt"
   ]
  },
  {
   "cell_type": "code",
   "execution_count": 21,
   "metadata": {},
   "outputs": [
    {
     "data": {
      "text/plain": [
       "6"
      ]
     },
     "execution_count": 21,
     "metadata": {},
     "output_type": "execute_result"
    }
   ],
   "source": [
    "well_nan.shape[1]-1"
   ]
  },
  {
   "cell_type": "code",
   "execution_count": 26,
   "metadata": {},
   "outputs": [
    {
     "ename": "TypeError",
     "evalue": "'(slice(None, None, None), 0)' is an invalid key",
     "output_type": "error",
     "traceback": [
      "\u001b[0;31m---------------------------------------------------------------------------\u001b[0m",
      "\u001b[0;31mTypeError\u001b[0m                                 Traceback (most recent call last)",
      "\u001b[0;32m<ipython-input-26-6a27ce34bfc4>\u001b[0m in \u001b[0;36m<module>\u001b[0;34m()\u001b[0m\n\u001b[1;32m      1\u001b[0m \u001b[0mfig\u001b[0m\u001b[0;34m,\u001b[0m \u001b[0max\u001b[0m  \u001b[0;34m=\u001b[0m \u001b[0mplt\u001b[0m\u001b[0;34m.\u001b[0m\u001b[0msubplots\u001b[0m\u001b[0;34m(\u001b[0m\u001b[0mncols\u001b[0m\u001b[0;34m=\u001b[0m\u001b[0mwell_nan\u001b[0m\u001b[0;34m.\u001b[0m\u001b[0mshape\u001b[0m\u001b[0;34m[\u001b[0m\u001b[0;36m1\u001b[0m\u001b[0;34m]\u001b[0m\u001b[0;34m,\u001b[0m \u001b[0msharey\u001b[0m\u001b[0;34m=\u001b[0m\u001b[0;32mTrue\u001b[0m\u001b[0;34m)\u001b[0m\u001b[0;34m\u001b[0m\u001b[0m\n\u001b[1;32m      2\u001b[0m \u001b[0;32mfor\u001b[0m \u001b[0mi\u001b[0m \u001b[0;32min\u001b[0m \u001b[0mrange\u001b[0m\u001b[0;34m(\u001b[0m\u001b[0mwell\u001b[0m\u001b[0;34m.\u001b[0m\u001b[0mshape\u001b[0m\u001b[0;34m[\u001b[0m\u001b[0;36m1\u001b[0m\u001b[0;34m]\u001b[0m\u001b[0;34m)\u001b[0m\u001b[0;34m:\u001b[0m\u001b[0;34m\u001b[0m\u001b[0m\n\u001b[0;32m----> 3\u001b[0;31m     \u001b[0max\u001b[0m\u001b[0;34m[\u001b[0m\u001b[0mi\u001b[0m\u001b[0;34m]\u001b[0m\u001b[0;34m.\u001b[0m\u001b[0mplot\u001b[0m\u001b[0;34m(\u001b[0m\u001b[0mwell\u001b[0m\u001b[0;34m[\u001b[0m\u001b[0;34m:\u001b[0m\u001b[0;34m,\u001b[0m\u001b[0mi\u001b[0m\u001b[0;34m]\u001b[0m\u001b[0;34m,\u001b[0m \u001b[0;36m2\u001b[0m\u001b[0;34m)\u001b[0m\u001b[0;34m\u001b[0m\u001b[0m\n\u001b[0m",
      "\u001b[0;32m/anaconda3/lib/python3.6/site-packages/pandas/core/frame.py\u001b[0m in \u001b[0;36m__getitem__\u001b[0;34m(self, key)\u001b[0m\n\u001b[1;32m   2993\u001b[0m             \u001b[0;32mif\u001b[0m \u001b[0mself\u001b[0m\u001b[0;34m.\u001b[0m\u001b[0mcolumns\u001b[0m\u001b[0;34m.\u001b[0m\u001b[0mnlevels\u001b[0m \u001b[0;34m>\u001b[0m \u001b[0;36m1\u001b[0m\u001b[0;34m:\u001b[0m\u001b[0;34m\u001b[0m\u001b[0m\n\u001b[1;32m   2994\u001b[0m                 \u001b[0;32mreturn\u001b[0m \u001b[0mself\u001b[0m\u001b[0;34m.\u001b[0m\u001b[0m_getitem_multilevel\u001b[0m\u001b[0;34m(\u001b[0m\u001b[0mkey\u001b[0m\u001b[0;34m)\u001b[0m\u001b[0;34m\u001b[0m\u001b[0m\n\u001b[0;32m-> 2995\u001b[0;31m             \u001b[0mindexer\u001b[0m \u001b[0;34m=\u001b[0m \u001b[0mself\u001b[0m\u001b[0;34m.\u001b[0m\u001b[0mcolumns\u001b[0m\u001b[0;34m.\u001b[0m\u001b[0mget_loc\u001b[0m\u001b[0;34m(\u001b[0m\u001b[0mkey\u001b[0m\u001b[0;34m)\u001b[0m\u001b[0;34m\u001b[0m\u001b[0m\n\u001b[0m\u001b[1;32m   2996\u001b[0m             \u001b[0;32mif\u001b[0m \u001b[0mis_integer\u001b[0m\u001b[0;34m(\u001b[0m\u001b[0mindexer\u001b[0m\u001b[0;34m)\u001b[0m\u001b[0;34m:\u001b[0m\u001b[0;34m\u001b[0m\u001b[0m\n\u001b[1;32m   2997\u001b[0m                 \u001b[0mindexer\u001b[0m \u001b[0;34m=\u001b[0m \u001b[0;34m[\u001b[0m\u001b[0mindexer\u001b[0m\u001b[0;34m]\u001b[0m\u001b[0;34m\u001b[0m\u001b[0m\n",
      "\u001b[0;32m/anaconda3/lib/python3.6/site-packages/pandas/core/indexes/base.py\u001b[0m in \u001b[0;36mget_loc\u001b[0;34m(self, key, method, tolerance)\u001b[0m\n\u001b[1;32m   2895\u001b[0m                 )\n\u001b[1;32m   2896\u001b[0m             \u001b[0;32mtry\u001b[0m\u001b[0;34m:\u001b[0m\u001b[0;34m\u001b[0m\u001b[0m\n\u001b[0;32m-> 2897\u001b[0;31m                 \u001b[0;32mreturn\u001b[0m \u001b[0mself\u001b[0m\u001b[0;34m.\u001b[0m\u001b[0m_engine\u001b[0m\u001b[0;34m.\u001b[0m\u001b[0mget_loc\u001b[0m\u001b[0;34m(\u001b[0m\u001b[0mkey\u001b[0m\u001b[0;34m)\u001b[0m\u001b[0;34m\u001b[0m\u001b[0m\n\u001b[0m\u001b[1;32m   2898\u001b[0m             \u001b[0;32mexcept\u001b[0m \u001b[0mKeyError\u001b[0m\u001b[0;34m:\u001b[0m\u001b[0;34m\u001b[0m\u001b[0m\n\u001b[1;32m   2899\u001b[0m                 \u001b[0;32mreturn\u001b[0m \u001b[0mself\u001b[0m\u001b[0;34m.\u001b[0m\u001b[0m_engine\u001b[0m\u001b[0;34m.\u001b[0m\u001b[0mget_loc\u001b[0m\u001b[0;34m(\u001b[0m\u001b[0mself\u001b[0m\u001b[0;34m.\u001b[0m\u001b[0m_maybe_cast_indexer\u001b[0m\u001b[0;34m(\u001b[0m\u001b[0mkey\u001b[0m\u001b[0;34m)\u001b[0m\u001b[0;34m)\u001b[0m\u001b[0;34m\u001b[0m\u001b[0m\n",
      "\u001b[0;32mpandas/_libs/index.pyx\u001b[0m in \u001b[0;36mpandas._libs.index.IndexEngine.get_loc\u001b[0;34m()\u001b[0m\n",
      "\u001b[0;32mpandas/_libs/index.pyx\u001b[0m in \u001b[0;36mpandas._libs.index.IndexEngine.get_loc\u001b[0;34m()\u001b[0m\n",
      "\u001b[0;31mTypeError\u001b[0m: '(slice(None, None, None), 0)' is an invalid key"
     ]
    },
    {
     "data": {
      "image/png": "[encoded data removed]",
      "text/plain": [
       "<Figure size 432x288 with 7 Axes>"
      ]
     },
     "metadata": {},
     "output_type": "display_data"
    }
   ],
   "source": [
    "fig, ax  = plt.subplots(ncols=well_nan.shape[1], sharey=True)\n",
    "for i in range(well.shape[1]):\n",
    "    ax[i].plot(well[:,i], 2)"
   ]
  },
  {
   "cell_type": "code",
   "execution_count": 82,
   "metadata": {},
   "outputs": [
    {
     "data": {
      "image/png": "[encoded data removed]",
      "text/plain": [
       "<Figure size 720x720 with 7 Axes>"
      ]
     },
     "metadata": {},
     "output_type": "display_data"
    }
   ],
   "source": [
    "\n",
    "fig = plt.subplots(figsize=(10,10))\n",
    "\n",
    "#Set up the plot axes\n",
    "ax1 = plt.subplot2grid((1,7), (0,0), rowspan=1, colspan = 1) \n",
    "ax2 = plt.subplot2grid((1,7), (0,1), rowspan=1, colspan = 1)\n",
    "ax3 = plt.subplot2grid((1,7), (0,2), rowspan=1, colspan = 1)\n",
    "ax4 = plt.subplot2grid((1,7), (0,3), rowspan=1, colspan = 1)\n",
    "ax5 = plt.subplot2grid((1,7), (0,4), rowspan=1, colspan = 1)\n",
    "ax6 = plt.subplot2grid((1,7), (0,5), rowspan=1, colspan = 1)\n",
    "ax7 = plt.subplot2grid((1,7), (0,6), rowspan=1, colspan = 1)\n",
    "\n",
    "axes = [ax1, ax2, ax3, ax4, ax5, ax6, ax7]\n",
    "\n",
    "for i, ax in enumerate(axes):\n",
    "    ax.plot(well_nan.iloc[:,i], well_nan.index)\n",
    "    ax.set_ylim(5000, 0)\n",
    "    ax.set_xlim(0, 0.5)\n",
    "    ax.fill_betweenx(well_nan.index, i, 0.2)\n",
    "    if i > 0:\n",
    "        plt.setp(ax.get_yticklabels(), visible = False)\n",
    "    plt.setp(ax.get_xticklabels(), visible = False)\n",
    "\n",
    "plt.subplots_adjust(hspace=0)\n",
    "plt.tight_layout()"
   ]
  },
  {
   "cell_type": "code",
   "execution_count": 35,
   "metadata": {},
   "outputs": [
    {
     "data": {
      "text/plain": [
       "Float64Index([ 102.1568,  102.3092,  102.4616,   102.614,  102.7664,  102.9188,\n",
       "               103.0712,  103.2236,   103.376,  103.5284,\n",
       "              ...\n",
       "              4635.1424, 4635.2948, 4635.4472, 4635.5996,  4635.752, 4635.9044,\n",
       "              4636.0568, 4636.2092, 4636.3616,  4636.514],\n",
       "             dtype='float64', name='DEPT', length=29754)"
      ]
     },
     "execution_count": 35,
     "metadata": {},
     "output_type": "execute_result"
    }
   ],
   "source": [
    "well_nan.index"
   ]
  },
  {
   "cell_type": "code",
   "execution_count": null,
   "metadata": {},
   "outputs": [],
   "source": []
  }
 ],
 "metadata": {
  "kernelspec": {
   "display_name": "Python 3.6.4 64-bit ('base': conda)",
   "language": "python",
   "name": "python36464bitbaseconda57932f4328ed418c8f3e34148e4838c8"
  },
  "language_info": {
   "codemirror_mode": {
    "name": "ipython",
    "version": 3
   },
   "file_extension": ".py",
   "mimetype": "text/x-python",
   "name": "python",
   "nbconvert_exporter": "python",
   "pygments_lexer": "ipython3",
   "version": "3.6.4"
  }
 },
 "nbformat": 4,
 "nbformat_minor": 4
}
